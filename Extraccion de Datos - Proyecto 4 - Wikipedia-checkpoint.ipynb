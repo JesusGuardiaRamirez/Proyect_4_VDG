{
 "cells": [
  {
   "cell_type": "code",
   "execution_count": 1,
   "id": "acd96aed",
   "metadata": {},
   "outputs": [],
   "source": [
    "import pandas as pdp\n",
    "from selenium.webdriver.common.by import By\n",
    "from selenium.webdriver.chrome.options import Options\n",
    "from webdriver_manager.chrome import ChromeDriverManager\n",
    "from selenium import webdriver # driver de selenium\n",
    "import time   # para manejar tiempo\n",
    "import pandas as pd"
   ]
  },
  {
   "cell_type": "code",
   "execution_count": 2,
   "id": "9665e0dd",
   "metadata": {},
   "outputs": [
    {
     "name": "stderr",
     "output_type": "stream",
     "text": [
      "/var/folders/01/zww_crzn3psd0rg9b2smfcgh0000gn/T/ipykernel_52312/208606464.py:5: DeprecationWarning: headless property is deprecated, instead use add_argument('--headless') or add_argument('--headless=new')\n",
      "  opciones.headless=False    # si True, no aperece la ventana (headless=no visible)\n"
     ]
    }
   ],
   "source": [
    "#driver configuration\n",
    "opciones=Options()\n",
    "opciones.add_experimental_option('excludeSwitches', ['enable-automation'])\n",
    "opciones.add_experimental_option('useAutomationExtension', False)\n",
    "opciones.headless=False    # si True, no aperece la ventana (headless=no visible)\n",
    "opciones.add_argument('--start-maximized')         # comienza maximizado\n",
    "opciones.add_argument('--incognito')"
   ]
  },
  {
   "cell_type": "code",
   "execution_count": 3,
   "id": "44b4a735",
   "metadata": {},
   "outputs": [],
   "source": [
    "url = 'https://es.wikipedia.org/wiki/Anexo:Comunidades_y_ciudades_aut%C3%B3nomas_de_Espa%C3%B1a'"
   ]
  },
  {
   "cell_type": "code",
   "execution_count": 4,
   "id": "c67e61bf",
   "metadata": {},
   "outputs": [],
   "source": [
    "PATH=ChromeDriverManager().install()"
   ]
  },
  {
   "cell_type": "code",
   "execution_count": 5,
   "id": "d0b0e54c",
   "metadata": {},
   "outputs": [
    {
     "name": "stderr",
     "output_type": "stream",
     "text": [
      "/var/folders/01/zww_crzn3psd0rg9b2smfcgh0000gn/T/ipykernel_52312/4085100790.py:1: DeprecationWarning: executable_path has been deprecated, please pass in a Service object\n",
      "  driver=webdriver.Chrome(PATH, options=opciones)\n"
     ]
    }
   ],
   "source": [
    "driver=webdriver.Chrome(PATH, options=opciones)\n",
    "driver.get(url)\n",
    "time.sleep(2)"
   ]
  },
  {
   "cell_type": "code",
   "execution_count": 6,
   "id": "b2cbb67d",
   "metadata": {},
   "outputs": [],
   "source": [
    "content = driver.find_element(By.CSS_SELECTOR,'#mw-content-text > div.mw-parser-output > table')"
   ]
  },
  {
   "cell_type": "code",
   "execution_count": 7,
   "id": "4932ddf7",
   "metadata": {
    "scrolled": false
   },
   "outputs": [
    {
     "data": {
      "text/plain": [
       "['Nombre Capital (de iure o en su defecto de facto) Población',\n",
       " '(2022) Porcentaje',\n",
       " 'población Densidad',\n",
       " '(hab./km²) Superficie',\n",
       " '(km²) Porcentaje',\n",
       " 'superficie Mapa PIB per',\n",
       " 'cápita en € (2021)',\n",
       " '1  Andalucía Sevilla 8 500 187 17,87 % 97,05 87 599 17,31 % 18 906',\n",
       " '2  Cataluña Barcelona 7 792 611 16,38 % 238,84 32 113 6,35 % 29 942',\n",
       " '3  Comunidad de Madrid Madrid 6 750 336 14,24 % 841,15 8028 1,59 % 34 821',\n",
       " '4  Comunidad Valenciana Valencia 5 097 967 10,67 % 216,98 23 255 4,60 % 22 289',\n",
       " '5  Galicia Santiago de Compostela 2 690 464 5,68 % 91,19 29 575 5,84 % 23 499',\n",
       " '6  Castilla y León Valladolidnota 1 2 372 640 5,02 % 25,34 94 224 18,62 % 24 428',\n",
       " '7  País Vasco Vitorianota 1 2 208 174 4,67 % 302,13 7234 1,43 % 32 925',\n",
       " '8  Canarias Las Palmas de Gran Canaria y Santa Cruz de Tenerifenota 2 2 177 701 4,58 % 301,39 7447nota 3 1,47 % 18 990',\n",
       " '9  Castilla-La Mancha Toledonota 1 2 053 328 4,32 % 25,79 79 461 15,70 % 20 655',\n",
       " '10  Región de Murcia Murcia 1 531 878 3,20 % 133,74 11 314 2,24 % 21 236',\n",
       " '11  Aragón Zaragoza 1 326 315 2,79 % 27,90 47 720 9,43 % 28 912',\n",
       " '12  Islas Baleares Palma 1 176 659 2,47 % 244,27 4992 0,99 % 24 866',\n",
       " '13  Extremadura Mérida 1 054 776 2,23 % 25,41 41 634 8,23 % 19 072',\n",
       " '14  Principado de Asturias Oviedo 1 004 686 2,14 % 95,53 10 604 2,13 % 23 235',\n",
       " '15 Comunidad Foral de Navarra Pamplona 664 117 1,39 % 63,30 10 391 2,05 % 31 024',\n",
       " '16  Cantabria Santander 585 402 1,23 % 109,74 5321 1,05 % 23 730',\n",
       " '17  La Rioja Logroño 319 892 0,67 % 62,67 5045 1,00 % 27 279',\n",
       " '18  Melilla Melilla 85 170 0,18 % 7001,58 12 <0,01 % 19 266',\n",
       " '19  Ceuta Ceuta 83 117 0,18 % 4175,10 20 <0,01 % 21 244',\n",
       " 'TOTAL  España Madrid 47 475 420 100 % 93,67 505 990 100 % — 25 498']"
      ]
     },
     "execution_count": 7,
     "metadata": {},
     "output_type": "execute_result"
    }
   ],
   "source": [
    "content.text.split('\\n')"
   ]
  },
  {
   "cell_type": "code",
   "execution_count": 8,
   "id": "c0cff024",
   "metadata": {},
   "outputs": [],
   "source": [
    "cuerpo=content.find_element(By.TAG_NAME, \"tbody\")"
   ]
  },
  {
   "cell_type": "code",
   "execution_count": 9,
   "id": "cf482a16",
   "metadata": {},
   "outputs": [],
   "source": [
    "filas=cuerpo.find_elements(By.TAG_NAME, \"tr\")"
   ]
  },
  {
   "cell_type": "code",
   "execution_count": 10,
   "id": "115a8ed8",
   "metadata": {},
   "outputs": [],
   "source": [
    "row = [e.text for e in filas[0].find_elements(By.TAG_NAME, \"td\")][:4]"
   ]
  },
  {
   "cell_type": "code",
   "execution_count": 11,
   "id": "cbf90914",
   "metadata": {},
   "outputs": [
    {
     "data": {
      "text/plain": [
       "[[' Andalucía', '8 500 187'],\n",
       " [' Cataluña', '7 792 611'],\n",
       " [' Comunidad de Madrid', '6 750 336'],\n",
       " [' Comunidad Valenciana', '5 097 967'],\n",
       " [' Galicia', '2 690 464'],\n",
       " [' Castilla y León', '2 372 640'],\n",
       " [' País Vasco', '2 208 174'],\n",
       " [' Canarias', '2 177 701'],\n",
       " [' Castilla-La Mancha', '2 053 328'],\n",
       " [' Región de Murcia', '1 531 878'],\n",
       " [' Aragón', '1 326 315'],\n",
       " [' Islas Baleares', '1 176 659'],\n",
       " [' Extremadura', '1 054 776'],\n",
       " [' Principado de Asturias', '1 004 686'],\n",
       " ['Comunidad Foral de Navarra', '664 117'],\n",
       " [' Cantabria', '585 402'],\n",
       " [' La Rioja', '319 892'],\n",
       " [' Melilla', '85 170'],\n",
       " [' Ceuta', '83 117'],\n",
       " [' España', '47 475 420']]"
      ]
     },
     "execution_count": 11,
     "metadata": {},
     "output_type": "execute_result"
    }
   ],
   "source": [
    "tabla = []\n",
    "for f in filas:\n",
    "    \n",
    "    elems = f.find_elements(By.TAG_NAME, \"td\")[1:4:2]\n",
    "    tmp = []\n",
    "    for e in elems:\n",
    "        tmp.append(e.text)\n",
    "        \n",
    "    tabla.append(tmp)\n",
    "    \n",
    "tabla"
   ]
  },
  {
   "cell_type": "code",
   "execution_count": 26,
   "id": "26a600e0",
   "metadata": {},
   "outputs": [],
   "source": [
    "CCAA_wikipedia = pd.DataFrame(tabla).rename(columns={0: 'CCAA', 1: 'Poblacion'})"
   ]
  },
  {
   "cell_type": "code",
   "execution_count": 27,
   "id": "8aac8876",
   "metadata": {},
   "outputs": [
    {
     "data": {
      "text/html": [
       "<div>\n",
       "<style scoped>\n",
       "    .dataframe tbody tr th:only-of-type {\n",
       "        vertical-align: middle;\n",
       "    }\n",
       "\n",
       "    .dataframe tbody tr th {\n",
       "        vertical-align: top;\n",
       "    }\n",
       "\n",
       "    .dataframe thead th {\n",
       "        text-align: right;\n",
       "    }\n",
       "</style>\n",
       "<table border=\"1\" class=\"dataframe\">\n",
       "  <thead>\n",
       "    <tr style=\"text-align: right;\">\n",
       "      <th></th>\n",
       "      <th>CCAA</th>\n",
       "      <th>Poblacion</th>\n",
       "    </tr>\n",
       "  </thead>\n",
       "  <tbody>\n",
       "    <tr>\n",
       "      <th>0</th>\n",
       "      <td>Andalucía</td>\n",
       "      <td>8 500 187</td>\n",
       "    </tr>\n",
       "    <tr>\n",
       "      <th>1</th>\n",
       "      <td>Cataluña</td>\n",
       "      <td>7 792 611</td>\n",
       "    </tr>\n",
       "    <tr>\n",
       "      <th>2</th>\n",
       "      <td>Comunidad de Madrid</td>\n",
       "      <td>6 750 336</td>\n",
       "    </tr>\n",
       "    <tr>\n",
       "      <th>3</th>\n",
       "      <td>Comunidad Valenciana</td>\n",
       "      <td>5 097 967</td>\n",
       "    </tr>\n",
       "    <tr>\n",
       "      <th>4</th>\n",
       "      <td>Galicia</td>\n",
       "      <td>2 690 464</td>\n",
       "    </tr>\n",
       "    <tr>\n",
       "      <th>5</th>\n",
       "      <td>Castilla y León</td>\n",
       "      <td>2 372 640</td>\n",
       "    </tr>\n",
       "    <tr>\n",
       "      <th>6</th>\n",
       "      <td>País Vasco</td>\n",
       "      <td>2 208 174</td>\n",
       "    </tr>\n",
       "    <tr>\n",
       "      <th>7</th>\n",
       "      <td>Canarias</td>\n",
       "      <td>2 177 701</td>\n",
       "    </tr>\n",
       "    <tr>\n",
       "      <th>8</th>\n",
       "      <td>Castilla-La Mancha</td>\n",
       "      <td>2 053 328</td>\n",
       "    </tr>\n",
       "    <tr>\n",
       "      <th>9</th>\n",
       "      <td>Región de Murcia</td>\n",
       "      <td>1 531 878</td>\n",
       "    </tr>\n",
       "    <tr>\n",
       "      <th>10</th>\n",
       "      <td>Aragón</td>\n",
       "      <td>1 326 315</td>\n",
       "    </tr>\n",
       "    <tr>\n",
       "      <th>11</th>\n",
       "      <td>Islas Baleares</td>\n",
       "      <td>1 176 659</td>\n",
       "    </tr>\n",
       "    <tr>\n",
       "      <th>12</th>\n",
       "      <td>Extremadura</td>\n",
       "      <td>1 054 776</td>\n",
       "    </tr>\n",
       "    <tr>\n",
       "      <th>13</th>\n",
       "      <td>Principado de Asturias</td>\n",
       "      <td>1 004 686</td>\n",
       "    </tr>\n",
       "    <tr>\n",
       "      <th>14</th>\n",
       "      <td>Comunidad Foral de Navarra</td>\n",
       "      <td>664 117</td>\n",
       "    </tr>\n",
       "    <tr>\n",
       "      <th>15</th>\n",
       "      <td>Cantabria</td>\n",
       "      <td>585 402</td>\n",
       "    </tr>\n",
       "    <tr>\n",
       "      <th>16</th>\n",
       "      <td>La Rioja</td>\n",
       "      <td>319 892</td>\n",
       "    </tr>\n",
       "    <tr>\n",
       "      <th>17</th>\n",
       "      <td>Melilla</td>\n",
       "      <td>85 170</td>\n",
       "    </tr>\n",
       "    <tr>\n",
       "      <th>18</th>\n",
       "      <td>Ceuta</td>\n",
       "      <td>83 117</td>\n",
       "    </tr>\n",
       "    <tr>\n",
       "      <th>19</th>\n",
       "      <td>España</td>\n",
       "      <td>47 475 420</td>\n",
       "    </tr>\n",
       "  </tbody>\n",
       "</table>\n",
       "</div>"
      ],
      "text/plain": [
       "                          CCAA   Poblacion\n",
       "0                    Andalucía   8 500 187\n",
       "1                     Cataluña   7 792 611\n",
       "2          Comunidad de Madrid   6 750 336\n",
       "3         Comunidad Valenciana   5 097 967\n",
       "4                      Galicia   2 690 464\n",
       "5              Castilla y León   2 372 640\n",
       "6                   País Vasco   2 208 174\n",
       "7                     Canarias   2 177 701\n",
       "8           Castilla-La Mancha   2 053 328\n",
       "9             Región de Murcia   1 531 878\n",
       "10                      Aragón   1 326 315\n",
       "11              Islas Baleares   1 176 659\n",
       "12                 Extremadura   1 054 776\n",
       "13      Principado de Asturias   1 004 686\n",
       "14  Comunidad Foral de Navarra     664 117\n",
       "15                   Cantabria     585 402\n",
       "16                    La Rioja     319 892\n",
       "17                     Melilla      85 170\n",
       "18                       Ceuta      83 117\n",
       "19                      España  47 475 420"
      ]
     },
     "execution_count": 27,
     "metadata": {},
     "output_type": "execute_result"
    }
   ],
   "source": [
    "CCAA_wikipedia"
   ]
  },
  {
   "cell_type": "code",
   "execution_count": 28,
   "id": "f2d2af4a",
   "metadata": {},
   "outputs": [],
   "source": [
    "CCAA_wikipedia.to_csv('../Proyect_4_VDG',index=False)"
   ]
  },
  {
   "cell_type": "code",
   "execution_count": null,
   "id": "d56947f5",
   "metadata": {},
   "outputs": [],
   "source": []
  },
  {
   "cell_type": "code",
   "execution_count": null,
   "id": "e8da80cf",
   "metadata": {},
   "outputs": [],
   "source": []
  },
  {
   "cell_type": "code",
   "execution_count": null,
   "id": "159a0d17",
   "metadata": {},
   "outputs": [],
   "source": []
  }
 ],
 "metadata": {
  "kernelspec": {
   "display_name": "Python 3 (ipykernel)",
   "language": "python",
   "name": "python3"
  },
  "language_info": {
   "codemirror_mode": {
    "name": "ipython",
    "version": 3
   },
   "file_extension": ".py",
   "mimetype": "text/x-python",
   "name": "python",
   "nbconvert_exporter": "python",
   "pygments_lexer": "ipython3",
   "version": "3.9.13"
  }
 },
 "nbformat": 4,
 "nbformat_minor": 5
}
